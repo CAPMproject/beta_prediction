{
 "cells": [
  {
   "cell_type": "code",
   "execution_count": 1,
   "id": "arbitrary-bench",
   "metadata": {},
   "outputs": [],
   "source": [
    "import numpy as np\n",
    "import matplotlib.pyplot as plt \n",
    "from sklearn.linear_model import LinearRegression\n",
    "import pandas as pd\n",
    "from yahoofinancials import YahooFinancials"
   ]
  },
  {
   "cell_type": "code",
   "execution_count": 2,
   "id": "intimate-corruption",
   "metadata": {},
   "outputs": [
    {
     "name": "stdout",
     "output_type": "stream",
     "text": [
      "Start Date (YYYY-MM-DD) : 2016-03-01\n",
      "End Date (YYYY-MM-DD) : 2021-02-17\n",
      "Frequency : monthly\n",
      "Stock Name : XOM\n"
     ]
    }
   ],
   "source": [
    "start_date = str(input(\"Start Date (YYYY-MM-DD) : \"))\n",
    "end_date = str(input(\"End Date (YYYY-MM-DD) : \"))\n",
    "frequency_date = str(input(\"Frequency : \"))\n",
    "stock = str(input(\"Stock Name : \"))"
   ]
  },
  {
   "cell_type": "code",
   "execution_count": 3,
   "id": "beginning-alpha",
   "metadata": {},
   "outputs": [],
   "source": [
    "yf1 = YahooFinancials('^GSPC')\n",
    "yf1_data = yf1.get_historical_price_data(start_date = start_date, end_date = end_date, time_interval = frequency_date)\n",
    "df1 = pd.DataFrame(yf1_data['^GSPC']['prices'])\n",
    "df1 = df1.drop('date', axis=1).rename(columns={'formatted_date': 'Date'})\n",
    "\n",
    "yf2 = YahooFinancials(stock)\n",
    "yf2_data = yf2.get_historical_price_data(start_date = start_date, end_date = end_date, time_interval = frequency_date)\n",
    "df2 = pd.DataFrame(yf2_data[stock]['prices'])\n",
    "df2 = df2.drop('date', axis=1).rename(columns={'formatted_date': 'Date'})"
   ]
  },
  {
   "cell_type": "code",
   "execution_count": 4,
   "id": "dirty-fighter",
   "metadata": {},
   "outputs": [],
   "source": [
    "def calc_beta(df1, df2):\n",
    "    df_volume = pd.DataFrame(pd.merge(df1, df2, on = 'Date')[['Date', 'volume_x', 'volume_y']])\n",
    "    df_volume.dropna(inplace = True)\n",
    "    df_volume.columns = ['Date', 'Market Volume', 'Stock Volume']\n",
    "    \n",
    "    Q1 = df_volume['Market Volume'].quantile(0.25)\n",
    "    Q3 = df_volume['Market Volume'].quantile(0.75)\n",
    "    IQR = Q3 - Q1 \n",
    "    filter = (df_volume['Market Volume'] >= Q1 - 1.5 * IQR) & (df_volume['Market Volume'] <= Q3 + 1.5 *IQR)\n",
    "    df_volume = df_volume.loc[filter] \n",
    "\n",
    "    Q1 = df_volume['Stock Volume'].quantile(0.25)\n",
    "    Q3 = df_volume['Stock Volume'].quantile(0.75)\n",
    "    IQR = Q3 - Q1 \n",
    "    filter = (df_volume['Stock Volume'] >= Q1 - 1.5 * IQR) & (df_volume['Stock Volume'] <= Q3 + 1.5 *IQR)\n",
    "    df_volume = df_volume.loc[filter] \n",
    "    \n",
    "    df_volume['Market Volume'] = df_volume['Market Volume'].map(int)\n",
    "    df_volume['Stock Volume'] = df_volume['Stock Volume'].map(int)\n",
    "    df_returns = pd.DataFrame(columns = ['Market Returns', 'Stock Returns'])\n",
    "\n",
    "    for i in range(0, len(df_volume)-1):\n",
    "        df_returns.loc[i] = [100*(df_volume.iloc[i+1, 1] - df_volume.iloc[i, 1])/df_volume.iloc[i, 1], 100*(df_volume.iloc[i+1, 2] - df_volume.iloc[i, 2])/df_volume.iloc[i, 2]]\n",
    "\n",
    "    X = df_returns['Market Returns'].values.reshape(-1, 1)\n",
    "    y = df_returns['Stock Returns'].values.reshape(-1, 1)\n",
    "    linear_regressor = LinearRegression()\n",
    "    linear_regressor.fit(X, y)\n",
    "    y_pred = linear_regressor.predict(X)\n",
    "    plt.scatter(X, y)\n",
    "    plt.plot(X, y_pred, color='red')\n",
    "    plt.show()\n",
    "    \n",
    "    print('Beta = ', linear_regressor.coef_[0][0], '\\nIntercept = ', linear_regressor.intercept_[0])\n",
    "    \n",
    "    cov = np.cov(np.array([df_returns['Market Returns'], df_returns['Stock Returns']]))\n",
    "    var = np.var(df_returns['Market Returns'])\n",
    "\n",
    "    print('\\nCovariance Matrix : \\n\\n', cov, '\\n\\nVariance (Market Returns) : ', var)\n",
    "    \n",
    "    beta = int(cov[0][1])/var\n",
    "    print('\\nbeta ',beta)"
   ]
  },
  {
   "cell_type": "code",
   "execution_count": 5,
   "id": "rocky-gazette",
   "metadata": {},
   "outputs": [
    {
     "data": {
      "image/png": "[encoded data removed]",
      "text/plain": [
       "<Figure size 432x288 with 1 Axes>"
      ]
     },
     "metadata": {
      "needs_background": "light"
     },
     "output_type": "display_data"
    },
    {
     "name": "stdout",
     "output_type": "stream",
     "text": [
      "Beta =  1.0848352432615702 \n",
      "Intercept =  2.3233865336112514\n",
      "\n",
      "Covariance Matrix : \n",
      "\n",
      " [[170.6852926  185.16542092]\n",
      " [185.16542092 481.86949808]] \n",
      "\n",
      "Variance (Market Returns) :  166.97474276073456\n",
      "\n",
      "beta  1.1079519988546689\n"
     ]
    }
   ],
   "source": [
    "calc_beta(df1, df2)"
   ]
  }
 ],
 "metadata": {
  "kernelspec": {
   "display_name": "Python 3",
   "language": "python",
   "name": "python3"
  },
  "language_info": {
   "codemirror_mode": {
    "name": "ipython",
    "version": 3
   },
   "file_extension": ".py",
   "mimetype": "text/x-python",
   "name": "python",
   "nbconvert_exporter": "python",
   "pygments_lexer": "ipython3",
   "version": "3.9.1"
  }
 },
 "nbformat": 4,
 "nbformat_minor": 5
}

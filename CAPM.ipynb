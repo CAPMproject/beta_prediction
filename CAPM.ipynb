{
 "cells": [
  {
   "cell_type": "markdown",
   "id": "acquired-preference",
   "metadata": {},
   "source": [
    "# Prerequisites"
   ]
  },
  {
   "cell_type": "code",
   "execution_count": 1,
   "id": "touched-jason",
   "metadata": {},
   "outputs": [],
   "source": [
    "import pandas as pd\n",
    "import numpy as np\n",
    "import matplotlib.pyplot as plt \n",
    "from sklearn.linear_model import LinearRegression"
   ]
  },
  {
   "cell_type": "code",
   "execution_count": 2,
   "id": "patient-shoulder",
   "metadata": {},
   "outputs": [],
   "source": [
    "df1 = pd.read_csv('GSPC.csv')\n",
    "df1['Date'] = pd.to_datetime(df1['Date']).dt.strftime('%d/%m/%Y')\n",
    "df2 = pd.read_csv('XOM.csv')\n",
    "df2['Date'] = pd.to_datetime(df2['Date']).dt.strftime('%d/%m/%Y')"
   ]
  },
  {
   "cell_type": "code",
   "execution_count": 3,
   "id": "ordered-brighton",
   "metadata": {},
   "outputs": [
    {
     "data": {
      "text/html": [
       "<div>\n",
       "<style scoped>\n",
       "    .dataframe tbody tr th:only-of-type {\n",
       "        vertical-align: middle;\n",
       "    }\n",
       "\n",
       "    .dataframe tbody tr th {\n",
       "        vertical-align: top;\n",
       "    }\n",
       "\n",
       "    .dataframe thead th {\n",
       "        text-align: right;\n",
       "    }\n",
       "</style>\n",
       "<table border=\"1\" class=\"dataframe\">\n",
       "  <thead>\n",
       "    <tr style=\"text-align: right;\">\n",
       "      <th></th>\n",
       "      <th>Date</th>\n",
       "      <th>Open</th>\n",
       "      <th>High</th>\n",
       "      <th>Low</th>\n",
       "      <th>Close</th>\n",
       "      <th>Adj Close</th>\n",
       "      <th>Volume</th>\n",
       "    </tr>\n",
       "  </thead>\n",
       "  <tbody>\n",
       "    <tr>\n",
       "      <th>0</th>\n",
       "      <td>01/03/2016</td>\n",
       "      <td>1937.089966</td>\n",
       "      <td>2072.209961</td>\n",
       "      <td>1937.089966</td>\n",
       "      <td>2059.739990</td>\n",
       "      <td>2059.739990</td>\n",
       "      <td>92639420000</td>\n",
       "    </tr>\n",
       "    <tr>\n",
       "      <th>1</th>\n",
       "      <td>01/04/2016</td>\n",
       "      <td>2056.620117</td>\n",
       "      <td>2111.050049</td>\n",
       "      <td>2033.800049</td>\n",
       "      <td>2065.300049</td>\n",
       "      <td>2065.300049</td>\n",
       "      <td>81124990000</td>\n",
       "    </tr>\n",
       "    <tr>\n",
       "      <th>2</th>\n",
       "      <td>01/05/2016</td>\n",
       "      <td>2067.169922</td>\n",
       "      <td>2103.479980</td>\n",
       "      <td>2025.910034</td>\n",
       "      <td>2096.949951</td>\n",
       "      <td>2096.949951</td>\n",
       "      <td>78883600000</td>\n",
       "    </tr>\n",
       "    <tr>\n",
       "      <th>3</th>\n",
       "      <td>01/06/2016</td>\n",
       "      <td>2093.939941</td>\n",
       "      <td>2120.550049</td>\n",
       "      <td>1991.680054</td>\n",
       "      <td>2098.860107</td>\n",
       "      <td>2098.860107</td>\n",
       "      <td>86852700000</td>\n",
       "    </tr>\n",
       "    <tr>\n",
       "      <th>4</th>\n",
       "      <td>01/07/2016</td>\n",
       "      <td>2099.340088</td>\n",
       "      <td>2177.090088</td>\n",
       "      <td>2074.020020</td>\n",
       "      <td>2173.600098</td>\n",
       "      <td>2173.600098</td>\n",
       "      <td>69530250000</td>\n",
       "    </tr>\n",
       "  </tbody>\n",
       "</table>\n",
       "</div>"
      ],
      "text/plain": [
       "         Date         Open         High          Low        Close  \\\n",
       "0  01/03/2016  1937.089966  2072.209961  1937.089966  2059.739990   \n",
       "1  01/04/2016  2056.620117  2111.050049  2033.800049  2065.300049   \n",
       "2  01/05/2016  2067.169922  2103.479980  2025.910034  2096.949951   \n",
       "3  01/06/2016  2093.939941  2120.550049  1991.680054  2098.860107   \n",
       "4  01/07/2016  2099.340088  2177.090088  2074.020020  2173.600098   \n",
       "\n",
       "     Adj Close       Volume  \n",
       "0  2059.739990  92639420000  \n",
       "1  2065.300049  81124990000  \n",
       "2  2096.949951  78883600000  \n",
       "3  2098.860107  86852700000  \n",
       "4  2173.600098  69530250000  "
      ]
     },
     "execution_count": 3,
     "metadata": {},
     "output_type": "execute_result"
    }
   ],
   "source": [
    "df1.head()"
   ]
  },
  {
   "cell_type": "code",
   "execution_count": 4,
   "id": "excessive-anniversary",
   "metadata": {},
   "outputs": [
    {
     "data": {
      "text/html": [
       "<div>\n",
       "<style scoped>\n",
       "    .dataframe tbody tr th:only-of-type {\n",
       "        vertical-align: middle;\n",
       "    }\n",
       "\n",
       "    .dataframe tbody tr th {\n",
       "        vertical-align: top;\n",
       "    }\n",
       "\n",
       "    .dataframe thead th {\n",
       "        text-align: right;\n",
       "    }\n",
       "</style>\n",
       "<table border=\"1\" class=\"dataframe\">\n",
       "  <thead>\n",
       "    <tr style=\"text-align: right;\">\n",
       "      <th></th>\n",
       "      <th>Date</th>\n",
       "      <th>Open</th>\n",
       "      <th>High</th>\n",
       "      <th>Low</th>\n",
       "      <th>Close</th>\n",
       "      <th>Adj Close</th>\n",
       "      <th>Volume</th>\n",
       "    </tr>\n",
       "  </thead>\n",
       "  <tbody>\n",
       "    <tr>\n",
       "      <th>0</th>\n",
       "      <td>01/03/2016</td>\n",
       "      <td>80.559998</td>\n",
       "      <td>85.099998</td>\n",
       "      <td>80.309998</td>\n",
       "      <td>83.589996</td>\n",
       "      <td>65.485214</td>\n",
       "      <td>292841700</td>\n",
       "    </tr>\n",
       "    <tr>\n",
       "      <th>1</th>\n",
       "      <td>01/04/2016</td>\n",
       "      <td>82.400002</td>\n",
       "      <td>89.779999</td>\n",
       "      <td>81.989998</td>\n",
       "      <td>88.400002</td>\n",
       "      <td>69.253410</td>\n",
       "      <td>221801200</td>\n",
       "    </tr>\n",
       "    <tr>\n",
       "      <th>2</th>\n",
       "      <td>01/05/2016</td>\n",
       "      <td>88.239998</td>\n",
       "      <td>90.459999</td>\n",
       "      <td>87.230003</td>\n",
       "      <td>89.019997</td>\n",
       "      <td>69.739105</td>\n",
       "      <td>219170200</td>\n",
       "    </tr>\n",
       "    <tr>\n",
       "      <th>3</th>\n",
       "      <td>01/06/2016</td>\n",
       "      <td>88.430000</td>\n",
       "      <td>93.830002</td>\n",
       "      <td>87.610001</td>\n",
       "      <td>93.739998</td>\n",
       "      <td>74.053986</td>\n",
       "      <td>252091800</td>\n",
       "    </tr>\n",
       "    <tr>\n",
       "      <th>4</th>\n",
       "      <td>01/07/2016</td>\n",
       "      <td>93.360001</td>\n",
       "      <td>95.550003</td>\n",
       "      <td>86.120003</td>\n",
       "      <td>88.949997</td>\n",
       "      <td>70.269928</td>\n",
       "      <td>209716200</td>\n",
       "    </tr>\n",
       "  </tbody>\n",
       "</table>\n",
       "</div>"
      ],
      "text/plain": [
       "         Date       Open       High        Low      Close  Adj Close  \\\n",
       "0  01/03/2016  80.559998  85.099998  80.309998  83.589996  65.485214   \n",
       "1  01/04/2016  82.400002  89.779999  81.989998  88.400002  69.253410   \n",
       "2  01/05/2016  88.239998  90.459999  87.230003  89.019997  69.739105   \n",
       "3  01/06/2016  88.430000  93.830002  87.610001  93.739998  74.053986   \n",
       "4  01/07/2016  93.360001  95.550003  86.120003  88.949997  70.269928   \n",
       "\n",
       "      Volume  \n",
       "0  292841700  \n",
       "1  221801200  \n",
       "2  219170200  \n",
       "3  252091800  \n",
       "4  209716200  "
      ]
     },
     "execution_count": 4,
     "metadata": {},
     "output_type": "execute_result"
    }
   ],
   "source": [
    "df2.head()"
   ]
  },
  {
   "cell_type": "code",
   "execution_count": 5,
   "id": "accepted-physics",
   "metadata": {},
   "outputs": [],
   "source": [
    "df_volume = pd.DataFrame(pd.merge(df1, df2, on = 'Date')[['Date', 'Volume_x', 'Volume_y']])"
   ]
  },
  {
   "cell_type": "markdown",
   "id": "domestic-appeal",
   "metadata": {},
   "source": [
    "# NaN values removal"
   ]
  },
  {
   "cell_type": "code",
   "execution_count": 6,
   "id": "growing-pharmacology",
   "metadata": {},
   "outputs": [],
   "source": [
    "df_volume.dropna(inplace = True)"
   ]
  },
  {
   "cell_type": "code",
   "execution_count": 7,
   "id": "primary-advertising",
   "metadata": {},
   "outputs": [
    {
     "data": {
      "text/html": [
       "<div>\n",
       "<style scoped>\n",
       "    .dataframe tbody tr th:only-of-type {\n",
       "        vertical-align: middle;\n",
       "    }\n",
       "\n",
       "    .dataframe tbody tr th {\n",
       "        vertical-align: top;\n",
       "    }\n",
       "\n",
       "    .dataframe thead th {\n",
       "        text-align: right;\n",
       "    }\n",
       "</style>\n",
       "<table border=\"1\" class=\"dataframe\">\n",
       "  <thead>\n",
       "    <tr style=\"text-align: right;\">\n",
       "      <th></th>\n",
       "      <th>Date</th>\n",
       "      <th>Market Volume</th>\n",
       "      <th>Stock Volume</th>\n",
       "    </tr>\n",
       "  </thead>\n",
       "  <tbody>\n",
       "    <tr>\n",
       "      <th>0</th>\n",
       "      <td>01/03/2016</td>\n",
       "      <td>92639420000</td>\n",
       "      <td>292841700</td>\n",
       "    </tr>\n",
       "    <tr>\n",
       "      <th>1</th>\n",
       "      <td>01/04/2016</td>\n",
       "      <td>81124990000</td>\n",
       "      <td>221801200</td>\n",
       "    </tr>\n",
       "    <tr>\n",
       "      <th>2</th>\n",
       "      <td>01/05/2016</td>\n",
       "      <td>78883600000</td>\n",
       "      <td>219170200</td>\n",
       "    </tr>\n",
       "    <tr>\n",
       "      <th>3</th>\n",
       "      <td>01/06/2016</td>\n",
       "      <td>86852700000</td>\n",
       "      <td>252091800</td>\n",
       "    </tr>\n",
       "    <tr>\n",
       "      <th>4</th>\n",
       "      <td>01/07/2016</td>\n",
       "      <td>69530250000</td>\n",
       "      <td>209716200</td>\n",
       "    </tr>\n",
       "  </tbody>\n",
       "</table>\n",
       "</div>"
      ],
      "text/plain": [
       "         Date  Market Volume  Stock Volume\n",
       "0  01/03/2016    92639420000     292841700\n",
       "1  01/04/2016    81124990000     221801200\n",
       "2  01/05/2016    78883600000     219170200\n",
       "3  01/06/2016    86852700000     252091800\n",
       "4  01/07/2016    69530250000     209716200"
      ]
     },
     "execution_count": 7,
     "metadata": {},
     "output_type": "execute_result"
    }
   ],
   "source": [
    "df_volume.columns = ['Date', 'Market Volume', 'Stock Volume']\n",
    "df_volume.head()"
   ]
  },
  {
   "cell_type": "markdown",
   "id": "sticky-flour",
   "metadata": {},
   "source": [
    "# Outlier Removal"
   ]
  },
  {
   "cell_type": "code",
   "execution_count": 8,
   "id": "coral-switzerland",
   "metadata": {},
   "outputs": [
    {
     "data": {
      "image/png": "[encoded data removed]",
      "text/plain": [
       "<Figure size 432x288 with 1 Axes>"
      ]
     },
     "metadata": {
      "needs_background": "light"
     },
     "output_type": "display_data"
    }
   ],
   "source": [
    "plt.boxplot(df_volume['Market Volume'])\n",
    "plt.show()"
   ]
  },
  {
   "cell_type": "code",
   "execution_count": 9,
   "id": "solid-trader",
   "metadata": {},
   "outputs": [
    {
     "data": {
      "image/png": "[encoded data removed]",
      "text/plain": [
       "<Figure size 432x288 with 1 Axes>"
      ]
     },
     "metadata": {
      "needs_background": "light"
     },
     "output_type": "display_data"
    }
   ],
   "source": [
    "plt.boxplot(df_volume['Stock Volume'])\n",
    "plt.show()"
   ]
  },
  {
   "cell_type": "code",
   "execution_count": 10,
   "id": "listed-frank",
   "metadata": {},
   "outputs": [],
   "source": [
    "Q1 = df_volume['Market Volume'].quantile(0.25)\n",
    "Q3 = df_volume['Market Volume'].quantile(0.75)\n",
    "IQR = Q3 - Q1 \n",
    "filter = (df_volume['Market Volume'] >= Q1 - 1.5 * IQR) & (df_volume['Market Volume'] <= Q3 + 1.5 *IQR)\n",
    "df_volume = df_volume.loc[filter] \n",
    "\n",
    "Q1 = df_volume['Stock Volume'].quantile(0.25)\n",
    "Q3 = df_volume['Stock Volume'].quantile(0.75)\n",
    "IQR = Q3 - Q1 \n",
    "filter = (df_volume['Stock Volume'] >= Q1 - 1.5 * IQR) & (df_volume['Stock Volume'] <= Q3 + 1.5 *IQR)\n",
    "df_volume = df_volume.loc[filter] "
   ]
  },
  {
   "cell_type": "code",
   "execution_count": 11,
   "id": "buried-texture",
   "metadata": {},
   "outputs": [],
   "source": [
    "df_volume['Market Volume'] = df_volume['Market Volume'].map(int)\n",
    "df_volume['Stock Volume'] = df_volume['Stock Volume'].map(int)\n",
    "df_returns = pd.DataFrame(columns = ['Market Returns', 'Stock Returns'])\n",
    "\n",
    "for i in range(0, len(df_volume)-1):\n",
    "    df_returns.loc[i] = [100*(df_volume.iloc[i+1, 1] - df_volume.iloc[i, 1])/df_volume.iloc[i, 1], 100*(df_volume.iloc[i+1, 2] - df_volume.iloc[i, 2])/df_volume.iloc[i, 2]]"
   ]
  },
  {
   "cell_type": "code",
   "execution_count": 12,
   "id": "registered-recruitment",
   "metadata": {},
   "outputs": [
    {
     "data": {
      "text/html": [
       "<div>\n",
       "<style scoped>\n",
       "    .dataframe tbody tr th:only-of-type {\n",
       "        vertical-align: middle;\n",
       "    }\n",
       "\n",
       "    .dataframe tbody tr th {\n",
       "        vertical-align: top;\n",
       "    }\n",
       "\n",
       "    .dataframe thead th {\n",
       "        text-align: right;\n",
       "    }\n",
       "</style>\n",
       "<table border=\"1\" class=\"dataframe\">\n",
       "  <thead>\n",
       "    <tr style=\"text-align: right;\">\n",
       "      <th></th>\n",
       "      <th>Market Returns</th>\n",
       "      <th>Stock Returns</th>\n",
       "    </tr>\n",
       "  </thead>\n",
       "  <tbody>\n",
       "    <tr>\n",
       "      <th>0</th>\n",
       "      <td>-12.429298</td>\n",
       "      <td>-24.259011</td>\n",
       "    </tr>\n",
       "    <tr>\n",
       "      <th>1</th>\n",
       "      <td>-2.762885</td>\n",
       "      <td>-1.186197</td>\n",
       "    </tr>\n",
       "    <tr>\n",
       "      <th>2</th>\n",
       "      <td>10.102353</td>\n",
       "      <td>15.021020</td>\n",
       "    </tr>\n",
       "    <tr>\n",
       "      <th>3</th>\n",
       "      <td>-19.944630</td>\n",
       "      <td>-16.809591</td>\n",
       "    </tr>\n",
       "    <tr>\n",
       "      <th>4</th>\n",
       "      <td>8.744482</td>\n",
       "      <td>12.252797</td>\n",
       "    </tr>\n",
       "  </tbody>\n",
       "</table>\n",
       "</div>"
      ],
      "text/plain": [
       "   Market Returns  Stock Returns\n",
       "0      -12.429298     -24.259011\n",
       "1       -2.762885      -1.186197\n",
       "2       10.102353      15.021020\n",
       "3      -19.944630     -16.809591\n",
       "4        8.744482      12.252797"
      ]
     },
     "execution_count": 12,
     "metadata": {},
     "output_type": "execute_result"
    }
   ],
   "source": [
    "df_returns.head()"
   ]
  },
  {
   "cell_type": "markdown",
   "id": "violent-movie",
   "metadata": {},
   "source": [
    "# Calculation using regression"
   ]
  },
  {
   "cell_type": "code",
   "execution_count": 13,
   "id": "demonstrated-offer",
   "metadata": {},
   "outputs": [
    {
     "data": {
      "image/png": "[encoded data removed]",
      "text/plain": [
       "<Figure size 432x288 with 1 Axes>"
      ]
     },
     "metadata": {
      "needs_background": "light"
     },
     "output_type": "display_data"
    }
   ],
   "source": [
    "X = df_returns['Market Returns'].values.reshape(-1, 1)\n",
    "y = df_returns['Stock Returns'].values.reshape(-1, 1)\n",
    "linear_regressor = LinearRegression()\n",
    "linear_regressor.fit(X, y)\n",
    "y_pred = linear_regressor.predict(X)\n",
    "plt.scatter(X, y)\n",
    "plt.plot(X, y_pred, color='red')\n",
    "plt.show()"
   ]
  },
  {
   "cell_type": "code",
   "execution_count": 14,
   "id": "sixth-exemption",
   "metadata": {
    "scrolled": true
   },
   "outputs": [
    {
     "name": "stdout",
     "output_type": "stream",
     "text": [
      "Beta =  1.0848352432615702 \n",
      "Intercept =  2.3233865336112514\n"
     ]
    }
   ],
   "source": [
    "print('Beta = ', linear_regressor.coef_[0][0], '\\nIntercept = ', linear_regressor.intercept_[0])"
   ]
  },
  {
   "cell_type": "markdown",
   "id": "golden-footwear",
   "metadata": {},
   "source": [
    "# Calculation with covariance and variance (market)"
   ]
  },
  {
   "cell_type": "code",
   "execution_count": 15,
   "id": "changing-mortality",
   "metadata": {},
   "outputs": [
    {
     "name": "stdout",
     "output_type": "stream",
     "text": [
      "Covariance Matrix : \n",
      "\n",
      " [[170.6852926  185.16542092]\n",
      " [185.16542092 481.86949808]] \n",
      "\n",
      "Variance (Market Returns : ) 166.97474276073456\n"
     ]
    }
   ],
   "source": [
    "cov = np.cov(np.array([df_returns['Market Returns'], df_returns['Stock Returns']]))\n",
    "var = np.var(df_returns['Market Returns'])\n",
    "\n",
    "print('Covariance Matrix : \\n\\n', cov, '\\n\\nVariance (Market Returns : )', var)"
   ]
  },
  {
   "cell_type": "code",
   "execution_count": 16,
   "id": "frequent-campbell",
   "metadata": {},
   "outputs": [
    {
     "name": "stdout",
     "output_type": "stream",
     "text": [
      "1.1079519988546689\n"
     ]
    }
   ],
   "source": [
    "beta = int(cov[0][1])/var\n",
    "print(beta)"
   ]
  }
 ],
 "metadata": {
  "kernelspec": {
   "display_name": "Python 3",
   "language": "python",
   "name": "python3"
  },
  "language_info": {
   "codemirror_mode": {
    "name": "ipython",
    "version": 3
   },
   "file_extension": ".py",
   "mimetype": "text/x-python",
   "name": "python",
   "nbconvert_exporter": "python",
   "pygments_lexer": "ipython3",
   "version": "3.9.1"
  }
 },
 "nbformat": 4,
 "nbformat_minor": 5
}
